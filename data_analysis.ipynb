{
 "cells": [
  {
   "cell_type": "code",
   "execution_count": 25,
   "metadata": {},
   "outputs": [],
   "source": [
    "import numpy as np\n",
    "import pandas as pd\n",
    "import matplotlib.pyplot as plt"
   ]
  },
  {
   "cell_type": "code",
   "execution_count": 26,
   "metadata": {},
   "outputs": [],
   "source": [
    "def get_measurements(file):\n",
    "    df = pd.read_csv(file, names=['loc1', 'loc2', 'speed', 'c_v', 'c_p', 'c_o', 'other', 'off_road', 'agents', 'throttle', 'steer'], index_col=None)\n",
    "    speed = pd.to_numeric(df['speed'].str[:-4], downcast='float')\n",
    "    throttle = pd.to_numeric(df['throttle'].str[10:], downcast='float')\n",
    "    steer = pd.to_numeric(df['steer'].str[7:], downcast='float')\n",
    "    return speed.tolist(),throttle.tolist(),steer.tolist()"
   ]
  },
  {
   "cell_type": "code",
   "execution_count": 27,
   "metadata": {},
   "outputs": [],
   "source": [
    "# measure_path = \"/home/mihir/Downloads/CARLA_0.8.2/PythonClient/_out/measurements/\"\n",
    "measure_path = \"./measurements/\"\n",
    "\n",
    "\n",
    "# Loading measurement data\n",
    "speed_arr = []\n",
    "throttle_arr = []\n",
    "steer_arr = []\n",
    "\n",
    "# for file in glob.glob(path):\n",
    "for i in range(229):\n",
    "    with open(measure_path+str(i)+\".txt\") as file:\n",
    "        speed,throttle,steer = get_measurements(file)\n",
    "        speed_arr += (speed)\n",
    "        throttle_arr += (throttle)\n",
    "        steer_arr += (steer)"
   ]
  },
  {
   "cell_type": "code",
   "execution_count": 28,
   "metadata": {},
   "outputs": [],
   "source": [
    "# Creating dataframe: episode_number, center_image_path, steer, speed, throttle\n",
    "df = pd.DataFrame(list(zip(steer_arr, speed_arr, throttle_arr)), columns=['steer','speed','throttle'])\n",
    "# Writing to CSV\n",
    "# df.to_csv(\"train.csv\")"
   ]
  },
  {
   "cell_type": "code",
   "execution_count": 29,
   "metadata": {},
   "outputs": [],
   "source": [
    "steer = df.steer.values"
   ]
  },
  {
   "cell_type": "code",
   "execution_count": 30,
   "metadata": {},
   "outputs": [
    {
     "data": {
      "text/plain": [
       "array([-7.92367136e-05, -7.96726745e-05, -7.96726745e-05, ...,\n",
       "        5.57795912e-03,  4.94232168e-03,  4.30722907e-03])"
      ]
     },
     "execution_count": 30,
     "metadata": {},
     "output_type": "execute_result"
    }
   ],
   "source": [
    "steer"
   ]
  },
  {
   "cell_type": "code",
   "execution_count": 31,
   "metadata": {
    "scrolled": true
   },
   "outputs": [
    {
     "data": {
      "text/plain": [
       "114500"
      ]
     },
     "execution_count": 31,
     "metadata": {},
     "output_type": "execute_result"
    }
   ],
   "source": [
    "len(steer)"
   ]
  },
  {
   "cell_type": "code",
   "execution_count": 32,
   "metadata": {},
   "outputs": [
    {
     "data": {
      "text/plain": [
       "(array([3.40000e+01, 3.60000e+01, 6.05000e+02, 1.39000e+03, 1.80600e+03,\n",
       "        1.07674e+05, 1.75400e+03, 4.88000e+02, 5.39000e+02, 1.74000e+02]),\n",
       " array([-0.9699918 , -0.78222011, -0.59444841, -0.40667672, -0.21890502,\n",
       "        -0.03113332,  0.15663837,  0.34441007,  0.53218176,  0.71995346,\n",
       "         0.90772516]),\n",
       " <a list of 10 Patch objects>)"
      ]
     },
     "execution_count": 32,
     "metadata": {},
     "output_type": "execute_result"
    },
    {
     "data": {
      "image/png": "[encoded data removed]",
      "text/plain": [
       "<Figure size 432x288 with 1 Axes>"
      ]
     },
     "metadata": {
      "needs_background": "light"
     },
     "output_type": "display_data"
    }
   ],
   "source": [
    "plt.hist(steer)"
   ]
  },
  {
   "cell_type": "code",
   "execution_count": 33,
   "metadata": {},
   "outputs": [
    {
     "data": {
      "text/plain": [
       "114489"
      ]
     },
     "execution_count": 33,
     "metadata": {},
     "output_type": "execute_result"
    }
   ],
   "source": [
    "np.count_nonzero(steer)"
   ]
  },
  {
   "cell_type": "code",
   "execution_count": null,
   "metadata": {},
   "outputs": [],
   "source": []
  }
 ],
 "metadata": {
  "kernelspec": {
   "display_name": "Python 3",
   "language": "python",
   "name": "python3"
  },
  "language_info": {
   "codemirror_mode": {
    "name": "ipython",
    "version": 3
   },
   "file_extension": ".py",
   "mimetype": "text/x-python",
   "name": "python",
   "nbconvert_exporter": "python",
   "pygments_lexer": "ipython3",
   "version": "3.6.6"
  }
 },
 "nbformat": 4,
 "nbformat_minor": 2
}
